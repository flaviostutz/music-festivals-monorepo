{
    "cells": [
     {
      "cell_type": "code",
      "execution_count": 27,
      "metadata": {},
      "outputs": [],
      "source": [
       "import urllib\n",
       "from bs4 import BeautifulSoup\n",
       "import pandas as pd\n",
       "import json"
      ]
     },
     {
      "cell_type": "markdown",
      "metadata": {},
      "source": [
       "### Load agenda contents"
      ]
     },
     {
      "cell_type": "code",
      "execution_count": 28,
      "metadata": {},
      "outputs": [],
      "source": [
       "f = urllib.request.urlopen('https://www.bredajazzfestival.nl/locatie/')\n",
       "contents = f.read()\n",
       "soup = BeautifulSoup(contents)"
      ]
     },
     {
      "cell_type": "code",
      "execution_count": 29,
      "metadata": {},
      "outputs": [],
      "source": [
       "venues = soup.find_all(class_='event-content')\n",
       "band_events = []"
      ]
     },
     {
      "cell_type": "code",
      "execution_count": 61,
      "metadata": {},
      "outputs": [],
      "source": [
       "def place_location(name):\n",
       "    if name == '01. Riant-Stoutenbeek podium - Grote Markt Midden': return {'lat': 51.588270, 'lon': 4.775947}\n",
       "    if name == '02. Scorpions Security podium - Grote Markt zuid': return {'lat': 51.587545, 'lon': 4.776352}\n",
       "    if name == '03. Meinselect podium - St Janstraat': return {'lat': 51.587659, 'lon': 4.777113}\n",
       "    if name == '04. De Rooi Pannen podium - Pleintje Veemarktstraat': return {'lat': 51.588654, 'lon': 4.778927}\n",
       "    if name == '05. Landgoed de Klokkenberg podium - Willem Merkxtuin': return {'lat': 51.589469, 'lon': 4.779095}\n",
       "    if name == '06. Avans Talent podium - Kerkplein': return {'lat': 51.589274, 'lon': 4.774685}\n",
       "    if name == '07. ’t Sas terras': return {'lat': 51.588489, 'lon': 4.774799}\n",
       "    if name == '08. Van Iersel Luchtman Advocaten podium - \\'t Sas Pleintje': return {'lat': 51.588308, 'lon': 4.774109}\n",
       "    raise Exception('not supported: ' + name)"
      ]
     },
     {
      "cell_type": "code",
      "execution_count": 62,
      "metadata": {},
      "outputs": [
       {
        "ename": "Exception",
        "evalue": "not supported: 09. RB-Media podium - Havermarkt",
        "output_type": "error",
        "traceback": [
         "\u001b[0;31m---------------------------------------------------------------------------\u001b[0m",
         "\u001b[0;31mException\u001b[0m                                 Traceback (most recent call last)",
         "Cell \u001b[0;32mIn[62], line 15\u001b[0m\n\u001b[1;32m      6\u001b[0m event_url \u001b[38;5;241m=\u001b[39m e\u001b[38;5;241m.\u001b[39mfind(\u001b[38;5;124m'\u001b[39m\u001b[38;5;124ma\u001b[39m\u001b[38;5;124m'\u001b[39m)[\u001b[38;5;124m'\u001b[39m\u001b[38;5;124mhref\u001b[39m\u001b[38;5;124m'\u001b[39m]\n\u001b[1;32m      7\u001b[0m \u001b[38;5;66;03m# print('>> EVENT:')\u001b[39;00m\n\u001b[1;32m      8\u001b[0m \u001b[38;5;66;03m# print(band_name)\u001b[39;00m\n\u001b[1;32m      9\u001b[0m \u001b[38;5;66;03m# print(event_url)\u001b[39;00m\n\u001b[1;32m     10\u001b[0m \u001b[38;5;66;03m# print(venue_name)\u001b[39;00m\n\u001b[1;32m     11\u001b[0m band_events\u001b[38;5;241m.\u001b[39mappend({\n\u001b[1;32m     12\u001b[0m     \u001b[38;5;124m'\u001b[39m\u001b[38;5;124mband_name\u001b[39m\u001b[38;5;124m'\u001b[39m: band_name,\n\u001b[1;32m     13\u001b[0m     \u001b[38;5;124m'\u001b[39m\u001b[38;5;124mevent_url\u001b[39m\u001b[38;5;124m'\u001b[39m: event_url,\n\u001b[1;32m     14\u001b[0m     \u001b[38;5;124m'\u001b[39m\u001b[38;5;124mplace_name\u001b[39m\u001b[38;5;124m'\u001b[39m: place_name,\n\u001b[0;32m---> 15\u001b[0m     \u001b[38;5;124m'\u001b[39m\u001b[38;5;124mevent_location\u001b[39m\u001b[38;5;124m'\u001b[39m: \u001b[43mplace_location\u001b[49m\u001b[43m(\u001b[49m\u001b[43mplace_name\u001b[49m\u001b[43m)\u001b[49m\n\u001b[1;32m     16\u001b[0m })\n",
         "Cell \u001b[0;32mIn[61], line 10\u001b[0m, in \u001b[0;36mplace_location\u001b[0;34m(name)\u001b[0m\n\u001b[1;32m      8\u001b[0m \u001b[38;5;28;01mif\u001b[39;00m name \u001b[38;5;241m==\u001b[39m \u001b[38;5;124m'\u001b[39m\u001b[38;5;124m07. ’t Sas terras\u001b[39m\u001b[38;5;124m'\u001b[39m: \u001b[38;5;28;01mreturn\u001b[39;00m {\u001b[38;5;124m'\u001b[39m\u001b[38;5;124mlat\u001b[39m\u001b[38;5;124m'\u001b[39m: \u001b[38;5;241m51.588489\u001b[39m, \u001b[38;5;124m'\u001b[39m\u001b[38;5;124mlon\u001b[39m\u001b[38;5;124m'\u001b[39m: \u001b[38;5;241m4.774799\u001b[39m}\n\u001b[1;32m      9\u001b[0m \u001b[38;5;28;01mif\u001b[39;00m name \u001b[38;5;241m==\u001b[39m \u001b[38;5;124m'\u001b[39m\u001b[38;5;124m08. Van Iersel Luchtman Advocaten podium - \u001b[39m\u001b[38;5;130;01m\\'\u001b[39;00m\u001b[38;5;124mt Sas Pleintje\u001b[39m\u001b[38;5;124m'\u001b[39m: \u001b[38;5;28;01mreturn\u001b[39;00m {\u001b[38;5;124m'\u001b[39m\u001b[38;5;124mlat\u001b[39m\u001b[38;5;124m'\u001b[39m: \u001b[38;5;241m51.588308\u001b[39m, \u001b[38;5;124m'\u001b[39m\u001b[38;5;124mlon\u001b[39m\u001b[38;5;124m'\u001b[39m: \u001b[38;5;241m4.774109\u001b[39m}\n\u001b[0;32m---> 10\u001b[0m \u001b[38;5;28;01mraise\u001b[39;00m \u001b[38;5;167;01mException\u001b[39;00m(\u001b[38;5;124m'\u001b[39m\u001b[38;5;124mnot supported: \u001b[39m\u001b[38;5;124m'\u001b[39m \u001b[38;5;241m+\u001b[39m name)\n",
         "\u001b[0;31mException\u001b[0m: not supported: 09. RB-Media podium - Havermarkt"
        ]
       }
      ],
      "source": [
       "for v in venues:\n",
       "    place_name = v.find('h3').text\n",
       "    events = v.find_all(class_='each-event')\n",
       "    for e in events:\n",
       "        band_name = e.find('p').text\n",
       "        event_url = e.find('a')['href']\n",
       "        # print('>> EVENT:')\n",
       "        # print(band_name)\n",
       "        # print(event_url)\n",
       "        # print(venue_name)\n",
       "        band_events.append({\n",
       "            'band_name': band_name,\n",
       "            'event_url': event_url,\n",
       "            'place_name': place_name,\n",
       "            'event_location': place_location(place_name)\n",
       "        })"
      ]
     },
     {
      "cell_type": "markdown",
      "metadata": {},
      "source": [
       "### Add band details"
      ]
     },
     {
      "cell_type": "code",
      "execution_count": 46,
      "metadata": {},
      "outputs": [],
      "source": [
       "def mon(name):\n",
       "    if name == 'mei': return '05'\n",
       "    raise Exception('not supported: ' + name)"
      ]
     },
     {
      "cell_type": "code",
      "execution_count": 32,
      "metadata": {},
      "outputs": [
       {
        "name": "stdout",
        "output_type": "stream",
        "text": [
         "loading https://www.bredajazzfestival.nl/event/opening-breda-jazz-festival-2023/\n"
        ]
       }
      ],
      "source": [
       "for be in band_events:\n",
       "    url = be['event_url']\n",
       "    print('loading ' + url)\n",
       "    f = urllib.request.urlopen(url)\n",
       "    contents = f.read()\n",
       "    soup = BeautifulSoup(contents)\n",
       "    \n",
       "    burl = soup.find('a', class_='artist-tag')\n",
       "    if burl is not None:\n",
       "        band_page_url = burl['href']\n",
       "        be['band_page_url'] = band_page_url\n",
       "    iurl = soup.find('img', alt='artist image')\n",
       "    \n",
       "    edate = soup.find('div', class_='date').find('span').text\n",
       "    dparts = edate.split(' ')\n",
       "        \n",
       "    etime = soup.find('div', class_='time').find('span').text\n",
       "    tparts = etime.split(' - ')\n",
       "\n",
       "    be['event_start'] = dparts[2] + '-' + mon(dparts[1]) + '-' + dparts[0] + 'T' + tparts[0] + ':00'\n",
       "    be['event_end'] = dparts[2] + '-' + mon(dparts[1]) + '-' + dparts[0] + 'T' + tparts[1] + ':00'\n",
       " \n",
       "    if iurl is not None:\n",
       "        band_image_url = iurl['src']\n",
       "        be['band_image_url'] = band_image_url\n",
       "        break"
      ]
     },
     {
      "cell_type": "markdown",
      "metadata": {},
      "source": [
       "### Show sample"
      ]
     },
     {
      "cell_type": "code",
      "execution_count": 33,
      "metadata": {},
      "outputs": [
       {
        "data": {
         "text/html": [
          "<div>\n",
          "<style scoped>\n",
          "    .dataframe tbody tr th:only-of-type {\n",
          "        vertical-align: middle;\n",
          "    }\n",
          "\n",
          "    .dataframe tbody tr th {\n",
          "        vertical-align: top;\n",
          "    }\n",
          "\n",
          "    .dataframe thead th {\n",
          "        text-align: right;\n",
          "    }\n",
          "</style>\n",
          "<table border=\"1\" class=\"dataframe\">\n",
          "  <thead>\n",
          "    <tr style=\"text-align: right;\">\n",
          "      <th></th>\n",
          "      <th>band_name</th>\n",
          "      <th>event_url</th>\n",
          "      <th>venue_name</th>\n",
          "      <th>event_start</th>\n",
          "      <th>event_end</th>\n",
          "      <th>band_image_url</th>\n",
          "    </tr>\n",
          "  </thead>\n",
          "  <tbody>\n",
          "    <tr>\n",
          "      <th>0</th>\n",
          "      <td>Opening Breda Jazz Festival 2023</td>\n",
          "      <td>https://www.bredajazzfestival.nl/event/opening...</td>\n",
          "      <td>01. Riant-Stoutenbeek podium - Grote Markt Midden</td>\n",
          "      <td>2023-05-18T13:00:00</td>\n",
          "      <td>2023-05-18T13:30:00</td>\n",
          "      <td>https://www.bredajazzfestival.nl/wp-content/up...</td>\n",
          "    </tr>\n",
          "    <tr>\n",
          "      <th>1</th>\n",
          "      <td>BOSCO feat. Johnny Rosenberg</td>\n",
          "      <td>https://www.bredajazzfestival.nl/event/bosco-f...</td>\n",
          "      <td>01. Riant-Stoutenbeek podium - Grote Markt Midden</td>\n",
          "      <td>NaN</td>\n",
          "      <td>NaN</td>\n",
          "      <td>NaN</td>\n",
          "    </tr>\n",
          "    <tr>\n",
          "      <th>2</th>\n",
          "      <td>Calvin Johnson &amp; Native Son</td>\n",
          "      <td>https://www.bredajazzfestival.nl/event/calvin-...</td>\n",
          "      <td>01. Riant-Stoutenbeek podium - Grote Markt Midden</td>\n",
          "      <td>NaN</td>\n",
          "      <td>NaN</td>\n",
          "      <td>NaN</td>\n",
          "    </tr>\n",
          "    <tr>\n",
          "      <th>3</th>\n",
          "      <td>Andrew Baham's New Orleans Tribute to Louis Ar...</td>\n",
          "      <td>https://www.bredajazzfestival.nl/event/andrew-...</td>\n",
          "      <td>01. Riant-Stoutenbeek podium - Grote Markt Midden</td>\n",
          "      <td>NaN</td>\n",
          "      <td>NaN</td>\n",
          "      <td>NaN</td>\n",
          "    </tr>\n",
          "    <tr>\n",
          "      <th>4</th>\n",
          "      <td>SOUL Brass Band</td>\n",
          "      <td>https://www.bredajazzfestival.nl/event/soul-br...</td>\n",
          "      <td>01. Riant-Stoutenbeek podium - Grote Markt Midden</td>\n",
          "      <td>NaN</td>\n",
          "      <td>NaN</td>\n",
          "      <td>NaN</td>\n",
          "    </tr>\n",
          "    <tr>\n",
          "      <th>...</th>\n",
          "      <td>...</td>\n",
          "      <td>...</td>\n",
          "      <td>...</td>\n",
          "      <td>...</td>\n",
          "      <td>...</td>\n",
          "      <td>...</td>\n",
          "    </tr>\n",
          "    <tr>\n",
          "      <th>207</th>\n",
          "      <td>LEMBO</td>\n",
          "      <td>https://www.bredajazzfestival.nl/event/lembo/</td>\n",
          "      <td>23. MotMot Gallery</td>\n",
          "      <td>NaN</td>\n",
          "      <td>NaN</td>\n",
          "      <td>NaN</td>\n",
          "    </tr>\n",
          "    <tr>\n",
          "      <th>208</th>\n",
          "      <td>Brass Bands From The World</td>\n",
          "      <td>https://www.bredajazzfestival.nl/event/brass-b...</td>\n",
          "      <td>Binnenstad</td>\n",
          "      <td>NaN</td>\n",
          "      <td>NaN</td>\n",
          "      <td>NaN</td>\n",
          "    </tr>\n",
          "    <tr>\n",
          "      <th>209</th>\n",
          "      <td>Brass Bands From The World</td>\n",
          "      <td>https://www.bredajazzfestival.nl/event/brass-b...</td>\n",
          "      <td>Binnenstad</td>\n",
          "      <td>NaN</td>\n",
          "      <td>NaN</td>\n",
          "      <td>NaN</td>\n",
          "    </tr>\n",
          "    <tr>\n",
          "      <th>210</th>\n",
          "      <td>Brass Bands From The World</td>\n",
          "      <td>https://www.bredajazzfestival.nl/event/brass-b...</td>\n",
          "      <td>Binnenstad</td>\n",
          "      <td>NaN</td>\n",
          "      <td>NaN</td>\n",
          "      <td>NaN</td>\n",
          "    </tr>\n",
          "    <tr>\n",
          "      <th>211</th>\n",
          "      <td>Brass Bands From The World</td>\n",
          "      <td>https://www.bredajazzfestival.nl/event/brass-b...</td>\n",
          "      <td>Binnenstad</td>\n",
          "      <td>NaN</td>\n",
          "      <td>NaN</td>\n",
          "      <td>NaN</td>\n",
          "    </tr>\n",
          "  </tbody>\n",
          "</table>\n",
          "<p>212 rows × 6 columns</p>\n",
          "</div>"
         ],
         "text/plain": [
          "                                             band_name  \\\n",
          "0                     Opening Breda Jazz Festival 2023   \n",
          "1                         BOSCO feat. Johnny Rosenberg   \n",
          "2                          Calvin Johnson & Native Son   \n",
          "3    Andrew Baham's New Orleans Tribute to Louis Ar...   \n",
          "4                                      SOUL Brass Band   \n",
          "..                                                 ...   \n",
          "207                                              LEMBO   \n",
          "208                         Brass Bands From The World   \n",
          "209                         Brass Bands From The World   \n",
          "210                         Brass Bands From The World   \n",
          "211                         Brass Bands From The World   \n",
          "\n",
          "                                             event_url  \\\n",
          "0    https://www.bredajazzfestival.nl/event/opening...   \n",
          "1    https://www.bredajazzfestival.nl/event/bosco-f...   \n",
          "2    https://www.bredajazzfestival.nl/event/calvin-...   \n",
          "3    https://www.bredajazzfestival.nl/event/andrew-...   \n",
          "4    https://www.bredajazzfestival.nl/event/soul-br...   \n",
          "..                                                 ...   \n",
          "207      https://www.bredajazzfestival.nl/event/lembo/   \n",
          "208  https://www.bredajazzfestival.nl/event/brass-b...   \n",
          "209  https://www.bredajazzfestival.nl/event/brass-b...   \n",
          "210  https://www.bredajazzfestival.nl/event/brass-b...   \n",
          "211  https://www.bredajazzfestival.nl/event/brass-b...   \n",
          "\n",
          "                                            venue_name          event_start  \\\n",
          "0    01. Riant-Stoutenbeek podium - Grote Markt Midden  2023-05-18T13:00:00   \n",
          "1    01. Riant-Stoutenbeek podium - Grote Markt Midden                  NaN   \n",
          "2    01. Riant-Stoutenbeek podium - Grote Markt Midden                  NaN   \n",
          "3    01. Riant-Stoutenbeek podium - Grote Markt Midden                  NaN   \n",
          "4    01. Riant-Stoutenbeek podium - Grote Markt Midden                  NaN   \n",
          "..                                                 ...                  ...   \n",
          "207                                 23. MotMot Gallery                  NaN   \n",
          "208                                         Binnenstad                  NaN   \n",
          "209                                         Binnenstad                  NaN   \n",
          "210                                         Binnenstad                  NaN   \n",
          "211                                         Binnenstad                  NaN   \n",
          "\n",
          "               event_end                                     band_image_url  \n",
          "0    2023-05-18T13:30:00  https://www.bredajazzfestival.nl/wp-content/up...  \n",
          "1                    NaN                                                NaN  \n",
          "2                    NaN                                                NaN  \n",
          "3                    NaN                                                NaN  \n",
          "4                    NaN                                                NaN  \n",
          "..                   ...                                                ...  \n",
          "207                  NaN                                                NaN  \n",
          "208                  NaN                                                NaN  \n",
          "209                  NaN                                                NaN  \n",
          "210                  NaN                                                NaN  \n",
          "211                  NaN                                                NaN  \n",
          "\n",
          "[212 rows x 6 columns]"
         ]
        },
        "execution_count": 33,
        "metadata": {},
        "output_type": "execute_result"
       }
      ],
      "source": [
       "pevents = pd.DataFrame(band_events)\n",
       "pevents"
      ]
     },
     {
      "cell_type": "code",
      "execution_count": 13,
      "metadata": {},
      "outputs": [],
      "source": [
       "json_contents = json.dumps(band_events)\n",
       "\n",
       "with open('output.json', 'w') as f:\n",
       "    f.write(json_contents)"
      ]
     },
     {
      "cell_type": "code",
      "execution_count": null,
      "metadata": {},
      "outputs": [],
      "source": []
     },
     {
      "cell_type": "code",
      "execution_count": null,
      "metadata": {},
      "outputs": [],
      "source": []
     }
    ],
    "metadata": {
     "kernelspec": {
      "display_name": "Python 3 (ipykernel)",
      "language": "python",
      "name": "python3"
     },
     "language_info": {
      "codemirror_mode": {
       "name": "ipython",
       "version": 3
      },
      "file_extension": ".py",
      "mimetype": "text/x-python",
      "name": "python",
      "nbconvert_exporter": "python",
      "pygments_lexer": "ipython3",
      "version": "3.10.9"
     }
    },
    "nbformat": 4,
    "nbformat_minor": 2
   }
   